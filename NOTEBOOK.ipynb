{
 "cells": [
  {
   "cell_type": "markdown",
   "id": "e5042e65",
   "metadata": {},
   "source": [
    "# Data Science Tools and Ecosystem"
   ]
  },
  {
   "cell_type": "markdown",
   "id": "17146dce",
   "metadata": {},
   "source": [
    "In this notebook, Data Science Tools and Ecosystem are summarized."
   ]
  },
  {
   "cell_type": "markdown",
   "id": "931134e4",
   "metadata": {},
   "source": [
    "•\tObjectives:"
   ]
  },
  {
   "cell_type": "markdown",
   "id": "107f2cae",
   "metadata": {},
   "source": [
    "Some of the popular languages that Data Scientists use are:"
   ]
  },
  {
   "cell_type": "markdown",
   "id": "e8285ead",
   "metadata": {},
   "source": [
    "•\tPython\n",
    "•\tR\n",
    "•\tSQL"
   ]
  },
  {
   "cell_type": "markdown",
   "id": "8855a169",
   "metadata": {},
   "source": [
    "Some of the commonly used libraries used by Data Scientists include:"
   ]
  },
  {
   "cell_type": "markdown",
   "id": "ec6927b8",
   "metadata": {},
   "source": [
    "•\tPandas\n",
    "•\tNumPy\n",
    "•\tSciPy\n",
    "•\tScikit-learn\n",
    "•\tTensorFlow\n",
    "•\tKeras"
   ]
  },
  {
   "cell_type": "markdown",
   "id": "9fa4c98f",
   "metadata": {},
   "source": [
    "Data Science Tools"
   ]
  },
  {
   "cell_type": "markdown",
   "id": "5be874a9",
   "metadata": {},
   "source": [
    "•\tPython\n",
    "•\tR\n",
    "•\tJupyter Notebook\n",
    "•\tSQL\n",
    "•\tNoSQL\n",
    "•\tThe Command Line\n",
    "•\tCloud\n",
    "•\tGit\n",
    "•\tVisual Studio Code\n",
    "•\tSpark\n",
    "•\tDocker"
   ]
  },
  {
   "cell_type": "markdown",
   "id": "e0591788",
   "metadata": {},
   "source": [
    "### Below are a few examples of evaluating arithmetic expressions in Python"
   ]
  },
  {
   "cell_type": "markdown",
   "id": "2c79cb90",
   "metadata": {},
   "source": [
    "This a simple arithmetic expression to mutiply then add integers"
   ]
  },
  {
   "cell_type": "code",
   "execution_count": 1,
   "id": "6e6bf331",
   "metadata": {},
   "outputs": [
    {
     "data": {
      "text/plain": [
       "17"
      ]
     },
     "execution_count": 1,
     "metadata": {},
     "output_type": "execute_result"
    }
   ],
   "source": [
    "(3*4)+5"
   ]
  },
  {
   "cell_type": "markdown",
   "id": "6ef76917",
   "metadata": {},
   "source": [
    "This will convert 200 minutes to hours by diving by 60"
   ]
  },
  {
   "cell_type": "code",
   "execution_count": 2,
   "id": "9b50677b",
   "metadata": {},
   "outputs": [
    {
     "data": {
      "text/plain": [
       "3.3333333333333335"
      ]
     },
     "execution_count": 2,
     "metadata": {},
     "output_type": "execute_result"
    }
   ],
   "source": [
    "200/60"
   ]
  },
  {
   "cell_type": "markdown",
   "id": "a5441791",
   "metadata": {},
   "source": [
    "## Author "
   ]
  },
  {
   "cell_type": "markdown",
   "id": "1cc122e8",
   "metadata": {},
   "source": [
    "Haytham El Mardi "
   ]
  }
 ],
 "metadata": {
  "celltoolbar": "Raw Cell Format",
  "kernelspec": {
   "display_name": "Python 3 (ipykernel)",
   "language": "python",
   "name": "python3"
  },
  "language_info": {
   "codemirror_mode": {
    "name": "ipython",
    "version": 3
   },
   "file_extension": ".py",
   "mimetype": "text/x-python",
   "name": "python",
   "nbconvert_exporter": "python",
   "pygments_lexer": "ipython3",
   "version": "3.10.9"
  }
 },
 "nbformat": 4,
 "nbformat_minor": 5
}
